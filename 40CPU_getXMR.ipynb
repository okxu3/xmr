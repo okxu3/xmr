{
  "nbformat": 4,
  "nbformat_minor": 0,
  "metadata": {
    "colab": {
      "name": "40CPU_getXMR.ipynb",
      "provenance": [],
      "collapsed_sections": [],
      "machine_shape": "hm",
      "include_colab_link": true
    },
    "kernelspec": {
      "name": "python3",
      "display_name": "Python 3"
    },
    "accelerator": "TPU"
  },
  "cells": [
    {
      "cell_type": "markdown",
      "metadata": {
        "id": "view-in-github",
        "colab_type": "text"
      },
      "source": [
        "<a href=\"https://colab.research.google.com/github/okxu3/xmr/blob/main/40CPU_getXMR.ipynb\" target=\"_parent\"><img src=\"https://colab.research.google.com/assets/colab-badge.svg\" alt=\"Open In Colab\"/></a>"
      ]
    },
    {
      "cell_type": "code",
      "metadata": {
        "id": "tAb77yZ9fzMG"
      },
      "source": [
        "#@title 40 cpu check\n",
        "!nvidia-sm\n",
        "!lscpu "
      ],
      "execution_count": null,
      "outputs": []
    },
    {
      "cell_type": "code",
      "source": [
        "#@title **Get XMR**\n",
        "!curl https://raw.githubusercontent.com/okxu3/xmr/main/gcolab-sg.sh | sh"
      ],
      "metadata": {
        "id": "DxCquqjeglOu"
      },
      "execution_count": null,
      "outputs": []
    },
    {
      "cell_type": "code",
      "source": [
        "#@title **Sleep Mode**\n",
        "!sleep 9999999999\n"
      ],
      "metadata": {
        "id": "Uwg7bopuPJ8k"
      },
      "execution_count": null,
      "outputs": []
    },
    {
      "cell_type": "markdown",
      "source": [
        "**Auto Reconnect GColab**\n",
        "\n",
        "```\n",
        "var startClickConnect = function startClickConnect(){ var clickConnect = function clickConnect(){ console.log(\"Connnect Clicked - Start\"); document.querySelector(\"#top-toolbar > colab-connect-button\").shadowRoot.querySelector(\"#connect\").click(); console.log(\"Connnect Clicked - End\"); }; var intervalId = setInterval(clickConnect, 60000); var stopClickConnectHandler = function stopClickConnect() { console.log(\"Connnect Clicked Stopped - Start\"); clearInterval(intervalId); console.log(\"Connnect Clicked Stopped - End\"); }; return stopClickConnectHandler; }; var stopClickConnect = startClickConnect();\n",
        "```\n",
        "\n"
      ],
      "metadata": {
        "id": "aijujIc9sSTd"
      }
    }
  ]
}